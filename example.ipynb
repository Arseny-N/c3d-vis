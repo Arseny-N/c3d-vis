{
 "cells": [
  {
   "cell_type": "code",
   "execution_count": null,
   "metadata": {},
   "outputs": [],
   "source": [
    "from common import add_paths\n",
    "\n",
    "# i3d_base, lucid_base = add_paths('kinetics-i3d', 'lucid')\n",
    "\n",
    "import lucid_video as L\n",
    "import common as C\n",
    "import tensorflow as tf"
   ]
  },
  {
   "cell_type": "code",
   "execution_count": null,
   "metadata": {
    "scrolled": true
   },
   "outputs": [],
   "source": [
    "model = L.I3D()\n",
    "model.load_graphdef()\n",
    "model.show_graph()"
   ]
  },
  {
   "cell_type": "markdown",
   "metadata": {},
   "source": [
    "#  Reproducing deep-dream"
   ]
  },
  {
   "cell_type": "code",
   "execution_count": null,
   "metadata": {},
   "outputs": [],
   "source": [
    "transforms = [ L.normalize_gradient_by_std()]\n",
    "optimizer = tf.train.GradientDescentOptimizer(1)\n",
    "param = lambda: L.uniform_video(79, 224)\n",
    "obj = \"inceptioni3d/Mixed_5b/concat:120\"\n",
    "thresholds=list(range(10, 1000, 100))"
   ]
  },
  {
   "cell_type": "code",
   "execution_count": null,
   "metadata": {},
   "outputs": [],
   "source": [
    "images = L.render_vis(model, obj, thresholds=thresholds,\n",
    "                      param_f=param, transforms=transforms, optimizer=optimizer)"
   ]
  },
  {
   "cell_type": "code",
   "execution_count": null,
   "metadata": {},
   "outputs": [],
   "source": [
    "transforms = [\n",
    "    L.normalize_gradient_by_lap(1),\n",
    "]\n",
    "\n",
    "images = L.render_vis(model, obj, thresholds=thresholds,\n",
    "                      param_f=param, transforms=transforms, optimizer=optimizer)"
   ]
  },
  {
   "cell_type": "markdown",
   "metadata": {},
   "source": [
    "# Transforms"
   ]
  },
  {
   "cell_type": "code",
   "execution_count": null,
   "metadata": {},
   "outputs": [],
   "source": [
    "images = L.render_vis(model, obj, thresholds=thresholds,\n",
    "                        param_f=param,                                            \n",
    "                        transforms=L.standard_transforms)"
   ]
  },
  {
   "cell_type": "markdown",
   "metadata": {},
   "source": [
    "# Parametrizations"
   ]
  },
  {
   "cell_type": "code",
   "execution_count": null,
   "metadata": {},
   "outputs": [],
   "source": [
    "param = lambda: L.video(79, 224, decorrelate=True, fft=True)\n",
    "\n",
    "images = L.render_vis(model, obj, thresholds=thresholds,\n",
    "                        param_f=param,                               \n",
    "                        transforms=L.standard_transforms)\n"
   ]
  }
 ],
 "metadata": {
  "kernelspec": {
   "display_name": "Python 3",
   "language": "python",
   "name": "python3"
  },
  "language_info": {
   "codemirror_mode": {
    "name": "ipython",
    "version": 3
   },
   "file_extension": ".py",
   "mimetype": "text/x-python",
   "name": "python",
   "nbconvert_exporter": "python",
   "pygments_lexer": "ipython3",
   "version": "3.7.3"
  }
 },
 "nbformat": 4,
 "nbformat_minor": 2
}
