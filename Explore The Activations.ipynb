{
 "cells": [
  {
   "cell_type": "code",
   "execution_count": 18,
   "metadata": {},
   "outputs": [],
   "source": [
    "import sys\n",
    "sys.path.insert(0, '../lucid')\n",
    "\n",
    "import os\n",
    "os.environ['CUDA_VISIBLE_DEVICES'] = '-1'\n",
    "\n",
    "import lucid_video as L\n",
    "import common as C\n",
    "import tensorflow as tf\n",
    "\n",
    "import lucid.optvis.render as render\n",
    "import matplotlib.pyplot as plt\n",
    "\n",
    "import numpy as np"
   ]
  },
  {
   "cell_type": "code",
   "execution_count": 41,
   "metadata": {},
   "outputs": [
    {
     "data": {
      "application/vnd.jupyter.widget-view+json": {
       "model_id": "11d73838ca2f49c9885805bc8dfd97dc",
       "version_major": 2,
       "version_minor": 0
      },
      "text/plain": [
       "HBox(children=(IntProgress(value=0, max=13), HTML(value='')))"
      ]
     },
     "metadata": {},
     "output_type": "display_data"
    },
    {
     "name": "stdout",
     "output_type": "stream",
     "text": [
      "\n"
     ]
    },
    {
     "data": {
      "application/vnd.jupyter.widget-view+json": {
       "model_id": "e98b3f9edf024369a3618ffe0e9af751",
       "version_major": 2,
       "version_minor": 0
      },
      "text/plain": [
       "HBox(children=(IntProgress(value=0, max=19), HTML(value='')))"
      ]
     },
     "metadata": {},
     "output_type": "display_data"
    },
    {
     "name": "stdout",
     "output_type": "stream",
     "text": [
      "\n"
     ]
    }
   ],
   "source": [
    "def compute_c3d_acts(vid):\n",
    "    model = L.I3D()\n",
    "    model.load_graphdef()\n",
    "\n",
    "    layers = [ l.name for l in model.layers ] \n",
    "\n",
    "    acts = {}\n",
    "\n",
    "    with tf.Graph().as_default(), tf.Session():\n",
    "        t_input = tf.placeholder_with_default(tf.to_float(vid), [None, None, None, 3])\n",
    "        T = render.import_model(model, t_input, t_input)\n",
    "        for layer in L.tqdm(layers):\n",
    "            k = layer.split('/')[1].lower().replace('_', '')\n",
    "            acts[k] = T(layer).eval()\n",
    "\n",
    "    return acts\n",
    "\n",
    "def compute_c2d_acts(img): \n",
    "    model = models.InceptionV1()\n",
    "    model.load_graphdef()\n",
    "\n",
    "    layers = [ l.name for l in model.layers ] \n",
    "    acts = {}\n",
    "\n",
    "    with tf.Graph().as_default(), tf.Session():\n",
    "        t_input =  tf.placeholder_with_default(tf.to_float(img), [None, None, 3])\n",
    "        T = render.import_model(model, t_input, t_input)\n",
    "        for layer in L.tqdm(layers):\n",
    "            acts[layer] = T(layer).eval()\n",
    "    \n",
    "    return acts\n",
    "    c2d_acts = acts.copy()\n",
    "    \n",
    "vid = C.file_to_array(C.cricket_video)\n",
    "\n",
    "c3d_acts = compute_c3d_acts(vid)\n",
    "c2d_acts = compute_c2d_acts(vid[0])\n"
   ]
  },
  {
   "cell_type": "code",
   "execution_count": 54,
   "metadata": {},
   "outputs": [
    {
     "data": {
      "application/vnd.jupyter.widget-view+json": {
       "model_id": "f68cc54dabf74bdfb988c149b0392110",
       "version_major": 2,
       "version_minor": 0
      },
      "text/plain": [
       "HBox(children=(IntProgress(value=0, max=13), HTML(value='')))"
      ]
     },
     "metadata": {},
     "output_type": "display_data"
    },
    {
     "name": "stdout",
     "output_type": "stream",
     "text": [
      "\n"
     ]
    }
   ],
   "source": [
    "\n",
    "\n",
    "vid_single_frame =  np.stack([ vid[0] for _ in range(vid.shape[0])])\n",
    "\n",
    "c3d_acts_single_frame = compute_c3d_acts(vid_single_frame)\n",
    " "
   ]
  },
  {
   "cell_type": "code",
   "execution_count": 45,
   "metadata": {},
   "outputs": [
    {
     "data": {
      "text/plain": [
       "<matplotlib.image.AxesImage at 0x7f52d79eaeb8>"
      ]
     },
     "execution_count": 45,
     "metadata": {},
     "output_type": "execute_result"
    },
    {
     "data": {
      "image/png": "[encoded data removed]",
      "text/plain": [
       "<Figure size 432x288 with 1 Axes>"
      ]
     },
     "metadata": {
      "needs_background": "light"
     },
     "output_type": "display_data"
    }
   ],
   "source": [
    "plt.imshow(c2d_acts['mixed4b'][0].mean(axis=-1))"
   ]
  },
  {
   "cell_type": "code",
   "execution_count": 50,
   "metadata": {},
   "outputs": [
    {
     "data": {
      "text/plain": [
       "<matplotlib.image.AxesImage at 0x7f52d7a93c88>"
      ]
     },
     "execution_count": 50,
     "metadata": {},
     "output_type": "execute_result"
    },
    {
     "data": {
      "image/png": "[encoded data removed]",
      "text/plain": [
       "<Figure size 432x288 with 1 Axes>"
      ]
     },
     "metadata": {
      "needs_background": "light"
     },
     "output_type": "display_data"
    }
   ],
   "source": [
    "plt.imshow(c3d_acts['mixed4b'][0].mean(axis=-1).mean(0))"
   ]
  },
  {
   "cell_type": "code",
   "execution_count": 55,
   "metadata": {},
   "outputs": [
    {
     "data": {
      "text/plain": [
       "<matplotlib.image.AxesImage at 0x7f52a173e550>"
      ]
     },
     "execution_count": 55,
     "metadata": {},
     "output_type": "execute_result"
    },
    {
     "data": {
      "image/png": "[encoded data removed]",
      "text/plain": [
       "<Figure size 432x288 with 1 Axes>"
      ]
     },
     "metadata": {
      "needs_background": "light"
     },
     "output_type": "display_data"
    }
   ],
   "source": [
    "plt.imshow(c3d_acts_single_frame['mixed4b'][0].mean(-1).mean(0))"
   ]
  }
 ],
 "metadata": {
  "kernelspec": {
   "display_name": "Python 3",
   "language": "python",
   "name": "python3"
  },
  "language_info": {
   "codemirror_mode": {
    "name": "ipython",
    "version": 3
   },
   "file_extension": ".py",
   "mimetype": "text/x-python",
   "name": "python",
   "nbconvert_exporter": "python",
   "pygments_lexer": "ipython3",
   "version": "3.7.3"
  }
 },
 "nbformat": 4,
 "nbformat_minor": 2
}
